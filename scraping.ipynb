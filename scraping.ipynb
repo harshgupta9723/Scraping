{
 "cells": [
  {
   "cell_type": "code",
   "execution_count": null,
   "metadata": {},
   "outputs": [],
   "source": [
    "import pandas as pd\n",
    "import bs4 as bs\n",
    "import requests as req\n",
    "import numpy as np\n",
    "import urllib.request\n",
    "\n",
    "def search(query):\n",
    "    \n",
    "    address = \"http://www.bing.com/search?q=%s\" % (urllib.parse.quote_plus(query))   #Replace special characters in string using the %xx escape and also replace spaces by plus signs, as required for quoting HTML form values when building up a query string to go into a URL.\n",
    "    getRequest = req.get(address)                                                    #The get() method sends a GET request to the specified url.\n",
    "\n",
    "    htmlResult = getRequest.content                                                  \n",
    "    soup = bs.BeautifulSoup(htmlResult)                                               # passing raw HTML content in beautiful soup.\n",
    "    text= soup.findAll('li', {\"class\" : \"b_algo\"})                                    #find all lists where class = b_algo.\n",
    "    \n",
    "    for tag in text:\n",
    "        tdTags = tag.find_all(\"a\",href=True)                                          #here we use find_all in the following way to find every 'a' element that has an href attribute, and print each one:\n",
    "        for tag in tdTags:\n",
    "            print(tag['href'])"
   ]
  },
  {
   "cell_type": "code",
   "execution_count": null,
   "metadata": {},
   "outputs": [],
   "source": [
    "links = search('studies')"
   ]
  },
  {
   "cell_type": "code",
   "execution_count": null,
   "metadata": {},
   "outputs": [],
   "source": [
    "#alternate method\n",
    "import bingscraper as bsrc\n",
    "\n",
    "search = str(input())\n",
    "x=bsrc.scrape(search).text()\n",
    "y=bsrc.scrape(search).image()\n",
    "\n",
    "print(x)"
   ]
  }
 ],
 "metadata": {
  "kernelspec": {
   "display_name": "Python 3",
   "language": "python",
   "name": "python3"
  },
  "language_info": {
   "codemirror_mode": {
    "name": "ipython",
    "version": 3
   },
   "file_extension": ".py",
   "mimetype": "text/x-python",
   "name": "python",
   "nbconvert_exporter": "python",
   "pygments_lexer": "ipython3",
   "version": "3.7.3"
  }
 },
 "nbformat": 4,
 "nbformat_minor": 2
}
